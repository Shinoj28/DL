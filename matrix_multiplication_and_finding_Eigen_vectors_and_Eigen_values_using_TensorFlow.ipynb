{
  "nbformat": 4,
  "nbformat_minor": 0,
  "metadata": {
    "colab": {
      "provenance": [],
      "include_colab_link": true
    },
    "kernelspec": {
      "name": "python3",
      "display_name": "Python 3"
    },
    "language_info": {
      "name": "python"
    }
  },
  "cells": [
    {
      "cell_type": "markdown",
      "metadata": {
        "id": "view-in-github",
        "colab_type": "text"
      },
      "source": [
        "<a href=\"https://colab.research.google.com/github/Shinoj28/DL/blob/main/matrix_multiplication_and_finding_Eigen_vectors_and_Eigen_values_using_TensorFlow.ipynb\" target=\"_parent\"><img src=\"https://colab.research.google.com/assets/colab-badge.svg\" alt=\"Open In Colab\"/></a>"
      ]
    },
    {
      "cell_type": "code",
      "execution_count": 1,
      "metadata": {
        "colab": {
          "base_uri": "https://localhost:8080/"
        },
        "id": "mlCC_SqatzMT",
        "outputId": "288b53ca-14cd-4516-8c84-18309a2aeb6a"
      },
      "outputs": [
        {
          "output_type": "stream",
          "name": "stdout",
          "text": [
            "tf.Tensor(\n",
            "[[1 2 3]\n",
            " [4 5 6]], shape=(2, 3), dtype=int32)\n",
            "tf.Tensor(\n",
            "[[ 7  8]\n",
            " [ 9 10]\n",
            " [11 12]], shape=(3, 2), dtype=int32)\n",
            "\n",
            "\n",
            "Multiplying the matrices: \n",
            "tf.Tensor(\n",
            "[[ 58  64]\n",
            " [139 154]], shape=(2, 2), dtype=int32)\n",
            "\n",
            "\n",
            "\n",
            "\n",
            "Matrix A: \n",
            "[[9.995829  7.1034417]\n",
            " [8.370665  4.817993 ]]\n",
            "\n",
            "\n",
            "Eigan Vectors: \n",
            "[[-0.593517    0.80482143]\n",
            " [ 0.80482143  0.593517  ]]\n",
            "\n",
            "Eigan Values: \n",
            "[-1.3549678 16.168789 ]\n",
            "\n",
            "\n"
          ]
        }
      ],
      "source": [
        "import tensorflow as tf\n",
        "\n",
        "x= tf.constant([1,2,3,4,5,6],shape=[2,3])\n",
        "print(x)\n",
        "y= tf.constant([7,8,9,10,11,12],shape=[3,2])\n",
        "print(y)\n",
        "\n",
        "z= tf.matmul(x,y)\n",
        "print(\"\\n\")\n",
        "print(\"Multiplying the matrices: \")\n",
        "print(z)\n",
        "print(\"\\n\")\n",
        "\n",
        "e_matrix_A=tf.random.uniform([2,2],minval=3,maxval=10,dtype=tf.float32,name=\"matrixA\")\n",
        "print(\"\\n\")\n",
        "print(\"Matrix A: \\n{}\\n\\n\".format(e_matrix_A))\n",
        "\n",
        "eigan_values_A,eigan_vectors_A=tf.linalg.eigh(e_matrix_A)\n",
        "print(\"Eigan Vectors: \\n{}\\n\\nEigan Values: \\n{}\\n\\n\".format(eigan_vectors_A,eigan_values_A))\n",
        "\n"
      ]
    }
  ]
}